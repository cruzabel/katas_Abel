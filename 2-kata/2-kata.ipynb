{
 "cells": [
  {
   "cell_type": "markdown",
   "metadata": {},
   "source": [
    "kata 2 \n",
    "\n",
    "<img src=\"1.png\">\n",
    "<img src=\"2.png\">\n",
    "<img src=\"3.png\">\n",
    "<img src=\"4.png\">\n",
    "<img src=\"5.png\">\n",
    "<img src=\"6.png\">\n",
    "<img src=\"7.png\">"
   ]
  }
 ],
 "metadata": {
  "language_info": {
   "name": "python"
  },
  "orig_nbformat": 4
 },
 "nbformat": 4,
 "nbformat_minor": 2
}
