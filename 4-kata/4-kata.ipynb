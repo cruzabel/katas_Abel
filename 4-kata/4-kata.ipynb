{
 "cells": [
  {
   "cell_type": "markdown",
   "metadata": {},
   "source": [
    "## Ejercicio 1"
   ]
  },
  {
   "cell_type": "code",
   "execution_count": 2,
   "metadata": {},
   "outputs": [],
   "source": [
    "text = \"\"\"Interesting facts about the Moon. The Moon is Earth's only satellite. There are several interesting facts about the Moon and how it affects life here on Earth. \n",
    "On average, the Moon moves 4cm away from the Earth every year. This yearly drift is not significant enough to cause immediate effects on Earth. The highest daylight temperature of the Moon is 127 C.\"\"\""
   ]
  },
  {
   "cell_type": "markdown",
   "metadata": {},
   "source": [
    "Primero, divide el texto en cada oración para trabajar con su contenido:"
   ]
  },
  {
   "cell_type": "code",
   "execution_count": 15,
   "metadata": {},
   "outputs": [
    {
     "data": {
      "text/plain": [
       "['Interesting facts about the Moon',\n",
       " \"The Moon is Earth's only satellite\",\n",
       " 'There are several interesting facts about the Moon and how it affects life here on Earth',\n",
       " '\\nOn average, the Moon moves 4cm away from the Earth every year',\n",
       " 'This yearly drift is not significant enough to cause immediate effects on Earth',\n",
       " 'The highest daylight temperature of the Moon is 127 C.']"
      ]
     },
     "execution_count": 15,
     "metadata": {},
     "output_type": "execute_result"
    }
   ],
   "source": [
    "# Divide el texto\n",
    "textoPartido = text.split('. ')\n",
    "textoPartido"
   ]
  },
  {
   "cell_type": "markdown",
   "metadata": {},
   "source": [
    "Ahora, define algunas palabras clave para búsqueda que te ayudarán a determinar si una oración contiene un hecho."
   ]
  },
  {
   "cell_type": "code",
   "execution_count": 16,
   "metadata": {},
   "outputs": [],
   "source": [
    "# Define las palabras pista: average, temperature y distance suenan bien\n",
    "palabrasClave = [\"average\", \"temperature\", \"distance\"]"
   ]
  },
  {
   "cell_type": "markdown",
   "metadata": {},
   "source": [
    "Cre un bucle para imprimir solo datos sobre la Luna que estén relacionados con las palabras clave definidas anteriormente:"
   ]
  },
  {
   "cell_type": "code",
   "execution_count": 18,
   "metadata": {},
   "outputs": [
    {
     "name": "stdout",
     "output_type": "stream",
     "text": [
      "\n",
      "On average, the Moon moves 4cm away from the Earth every year\n",
      "The highest daylight temperature of the Moon is 127 C.\n"
     ]
    }
   ],
   "source": [
    "# Ciclo for para recorrer la cadena\n",
    "for oracion in textoPartido:\n",
    "    for palabraCla in palabrasClave:\n",
    "        if palabraCla in oracion:\n",
    "            print(oracion)\n",
    "            break"
   ]
  },
  {
   "cell_type": "markdown",
   "metadata": {},
   "source": [
    "Finalmente, actualiza el bucle(ciclo) para cambiar _C_ a _Celsius_:"
   ]
  },
  {
   "cell_type": "code",
   "execution_count": 19,
   "metadata": {},
   "outputs": [
    {
     "name": "stdout",
     "output_type": "stream",
     "text": [
      "\n",
      "On average, the Moon moves 4cm away from the Earth every year\n",
      "The highest daylight temperature of the Moon is 127 Celsius.\n"
     ]
    }
   ],
   "source": [
    "# Ciclo para cambiar C a Celsius\n",
    "for oracion in textoPartido:\n",
    "    for palabraCla in palabrasClave:\n",
    "        if palabraCla in oracion:\n",
    "            print(oracion.replace(' C', ' Celsius'))\n",
    "            break"
   ]
  },
  {
   "cell_type": "markdown",
   "metadata": {},
   "source": [
    "# Ejercicio 2: Formateando Cadenas\n",
    "Saber cómo dar formato a las cadenas es esencial cuando se presenta información de un programa. Hay algunas maneras diferentes de lograr esto en Python. En este ejercicio, se utilizan variables que contienen datos clave sobre la gravedad en varias lunas y luego se utilizan para dar formato e imprimir la información.\n",
    "\n",
    "El formato tiene que acomodar información sobre otras lunas, por lo que debe ser genérico.\n",
    "\n",
    "En lugar de reemplazar las variables en una cadena larga como parte de un párrafo, utiliza la información para presentarla en un formato tabular. El resultado debería verse así:\n",
    "\n",
    "```\n",
    "Gravity Facts about Ganymede\n",
    "-------------------------------------------------------------------------------\n",
    "Planet Name: Mars\n",
    "Gravity on Ganymede: 1.4300000000000002 m/s2\n",
    "```"
   ]
  },
  {
   "cell_type": "code",
   "execution_count": 20,
   "metadata": {},
   "outputs": [],
   "source": [
    "# Datos con los que vas a trabajar\n",
    "nombreSatelite = \"Luna\"\n",
    "gravedad = 0.00162 # in kms\n",
    "planeta = \"Tierra\""
   ]
  },
  {
   "cell_type": "code",
   "execution_count": 22,
   "metadata": {},
   "outputs": [],
   "source": [
    "# Primero, crea un título para el texto. Debido a que este texto trata sobre la gravedad en la Tierra y la Luna, úsalo para crear un título significativo. Utiliza las variables en lugar de escribir.\n",
    "title = f'datos de gravedad sobre {nombreSatelite}'\n"
   ]
  },
  {
   "cell_type": "code",
   "execution_count": 23,
   "metadata": {},
   "outputs": [],
   "source": [
    "# Ahora crea una plantilla de cadena multilínea para contener el resto de la información. En lugar de usar kilómetros, debes convertir la distancia a metros multiplicando por 1,000.\n",
    "hechos = f\"\"\"{'-'*80} \n",
    "Nombre del planeta: {planeta} \n",
    "Gravedad en {nombreSatelite}: {gravedad * 1000} m/s2 \n",
    "\"\"\""
   ]
  },
  {
   "cell_type": "code",
   "execution_count": 24,
   "metadata": {},
   "outputs": [
    {
     "name": "stdout",
     "output_type": "stream",
     "text": [
      "-------------------------------------------------------------------------------- \n",
      "Nombre del planeta: Tierra \n",
      "Gravedad en Luna: 1.6199999999999999 m/s2 \n",
      "\n"
     ]
    }
   ],
   "source": [
    "# Finalmente, usa ambas variables para unir el título y los hechos.\n",
    "template = f\"\"\"{title.title()} \n",
    "{hechos} \n",
    "\"\"\" \n",
    "print(hechos)"
   ]
  },
  {
   "cell_type": "markdown",
   "metadata": {},
   "source": [
    "Ahora usa información de una luna diferente para ver si la plantilla todavía funciona.\n",
    "\n",
    "Datos muestra: \n",
    "```\n",
    "planeta = 'Marte '\n",
    "gravedad  = 0.00143\n",
    "nombre = 'Ganímedes'\n",
    "```"
   ]
  },
  {
   "cell_type": "code",
   "execution_count": 28,
   "metadata": {},
   "outputs": [
    {
     "name": "stdout",
     "output_type": "stream",
     "text": [
      "-------------------------------------------------------------------------------- \n",
      "Nombre del planeta: Tierra \n",
      "Gravedad en Luna: 1.6199999999999999 m/s2 \n",
      "\n"
     ]
    }
   ],
   "source": [
    "# Comprueba la plantilla\n",
    "# print(nombre_plantilla)\n",
    "print(hechos)\n",
    "nombreSatelite = \"Ganímedes\"\n",
    "gravedad = 0.00143 # in kms\n",
    "planeta = \"Marte\"\n"
   ]
  },
  {
   "cell_type": "markdown",
   "metadata": {},
   "source": [
    "La salida no muestra información sobre Marte. Todavía muestra información sobre la Luna. Esto sucede porque las cadenas f están ansiosas en su evaluación, por lo que las variables una vez asignadas no se pueden reasignar. Para evitar este problema, vuelva a hacer la plantilla para utilizar .format():"
   ]
  },
  {
   "cell_type": "code",
   "execution_count": 30,
   "metadata": {},
   "outputs": [
    {
     "name": "stdout",
     "output_type": "stream",
     "text": [
      "\n",
      "Datos de Gravedad sobre: Ganímedes\n",
      "-------------------------------------------------------------------------------\n",
      "Nombre del planeta: Marte\n",
      "Gravedad en Ganímedes: 0.00143 m/s2\n",
      "\n"
     ]
    }
   ],
   "source": [
    "# Nueva plantilla\n",
    "new_template = \"\"\"\n",
    "Datos de Gravedad sobre: {nombreSatelite}\n",
    "-------------------------------------------------------------------------------\n",
    "Nombre del planeta: {planeta}\n",
    "Gravedad en {nombreSatelite}: {gravedad} m/s2\n",
    "\"\"\"\n",
    "print(new_template.format(nombreSatelite=nombreSatelite, planeta=planeta, gravedad=gravedad))"
   ]
  },
  {
   "cell_type": "markdown",
   "metadata": {},
   "source": [
    "Debido a que .format() no permite expresiones, la gravedad en Ganímedes es incorrecta. Asegúrese de que la operación se realiza fuera de la plantilla de formato e imprima de nuevo para ver el resultado de trabajo."
   ]
  },
  {
   "cell_type": "code",
   "execution_count": 31,
   "metadata": {},
   "outputs": [
    {
     "name": "stdout",
     "output_type": "stream",
     "text": [
      "\n",
      "Datos de Gravedad sobre: Ganímedes\n",
      "-------------------------------------------------------------------------------\n",
      "Nombre del planeta: Marte\n",
      "Gravedad en Ganímedes: 1.4300000000000002 m/s2\n",
      "\n"
     ]
    }
   ],
   "source": [
    "# Pista: print(nueva_plantilla.format(variables))\n",
    "print(new_template.format(nombreSatelite=nombreSatelite, planeta=planeta, gravedad=gravedad*1000))"
   ]
  }
 ],
 "metadata": {
  "interpreter": {
   "hash": "e2af106caa1d9d239e93dd47ced50aadece9337746f63b9f5fdc9fe75ef27128"
  },
  "kernelspec": {
   "display_name": "Python 3.10.2 64-bit",
   "language": "python",
   "name": "python3"
  },
  "language_info": {
   "codemirror_mode": {
    "name": "ipython",
    "version": 3
   },
   "file_extension": ".py",
   "mimetype": "text/x-python",
   "name": "python",
   "nbconvert_exporter": "python",
   "pygments_lexer": "ipython3",
   "version": "3.10.2"
  },
  "orig_nbformat": 4
 },
 "nbformat": 4,
 "nbformat_minor": 2
}
