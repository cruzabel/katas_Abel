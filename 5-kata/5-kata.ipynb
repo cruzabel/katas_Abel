{
 "cells": [
  {
   "cell_type": "markdown",
   "metadata": {},
   "source": [
    "# Ejercicio1 - Utilizar operadores aritméticos"
   ]
  },
  {
   "cell_type": "code",
   "execution_count": 1,
   "metadata": {},
   "outputs": [],
   "source": [
    "# Exploremos cómo podemos crear un programa que pueda calcular la distancia entre dos planetas.  Comenzaremos usando dos distancias de planetas: Tierra (149.597.870 km) y Júpiter (778.547.200 km)\n",
    "# Crear variables para almacenar las dos distancias\n",
    "# ¡Asegúrate de quitar las comas!\n",
    "planetaUno = 149597870\n",
    "planetaDos = 778547200\n"
   ]
  },
  {
   "cell_type": "markdown",
   "metadata": {},
   "source": [
    "### Realizar la operación\n"
   ]
  },
  {
   "cell_type": "code",
   "execution_count": 5,
   "metadata": {},
   "outputs": [
    {
     "name": "stdout",
     "output_type": "stream",
     "text": [
      "La distancia entre los planetas es: 628949330 km\n",
      "La distancia entre los planetas es: 390577533.93 mi\n"
     ]
    }
   ],
   "source": [
    "# Con los valores obtenidos, es el momento de añadir el código para realizar la operación. Restarás el primer planeta del segundo para determinar la distancia en kilómetros. A continuación, puedes convertir la distancia del kilómetro en millas multiplicándola por `0.621`.\n",
    "# Calcular la distancia entre planetas\n",
    "distanciaPKm = planetaDos - planetaUno\n",
    "print('La distancia entre los planetas es: '+str(distanciaPKm)+' km')\n",
    "\n",
    "distanciaPMi = distanciaPKm * 0.621\n",
    "print('La distancia entre los planetas es: '+str(distanciaPMi)+' mi')"
   ]
  },
  {
   "cell_type": "markdown",
   "metadata": {},
   "source": [
    "## Ejercicio 2: convierte cadenas en números y usa valores absolutos\n",
    "\n"
   ]
  },
  {
   "cell_type": "code",
   "execution_count": 17,
   "metadata": {},
   "outputs": [
    {
     "name": "stdout",
     "output_type": "stream",
     "text": [
      "la distancia entre los planetas es: 22 km\n",
      "la distancia entre los planetas es: 13.661999999999999 millas\n"
     ]
    }
   ],
   "source": [
    "# ### Crear una aplicación para trabajar con números y entrada de usuario\n",
    "# Con frecuencia, deberás convertir los valores de cadena en números para realizar correctamente diferentes operaciones o determinar el valor absoluto de un número.\n",
    "\n",
    "# Para crear nuestra aplicación, queremos leer la distancia del sol para dos planetas, y luego mostrar la distancia entre los planetas. Haremos esto usando `input` para leer los valores, `int` para convertir a entero y luego `abs` para convertir el resultado en su valor absoluto.\n",
    "\n",
    "# Almacenar las entradas del usuario\n",
    "# Convierte las cadenas de ambos planetas a números enteros\n",
    "planetOne = int(input('Introduzca la distancia del sol para el primer planeta en KM'))\n",
    "planetTwo = int(input('Introduzca la distancia desde el sol para el segundo planeta en KM'))\n",
    "\n",
    "\n",
    "# Realizar el cálculo y determinar el valor absoluto\n",
    "distKm = abs(planetTwo - planetOne)\n",
    "print('la distancia entre los planetas es: '+str(distKm)+' km')\n",
    "\n",
    "# Convertir de KM a Millas\n",
    "distMi = distKm * 0.621\n",
    "print('la distancia entre los planetas es: '+str(distMi)+' millas')\n"
   ]
  }
 ],
 "metadata": {
  "interpreter": {
   "hash": "e2af106caa1d9d239e93dd47ced50aadece9337746f63b9f5fdc9fe75ef27128"
  },
  "kernelspec": {
   "display_name": "Python 3.10.2 64-bit",
   "language": "python",
   "name": "python3"
  },
  "language_info": {
   "codemirror_mode": {
    "name": "ipython",
    "version": 3
   },
   "file_extension": ".py",
   "mimetype": "text/x-python",
   "name": "python",
   "nbconvert_exporter": "python",
   "pygments_lexer": "ipython3",
   "version": "3.10.2"
  },
  "orig_nbformat": 4
 },
 "nbformat": 4,
 "nbformat_minor": 2
}
