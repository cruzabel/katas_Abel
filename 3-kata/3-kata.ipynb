{
 "cells": [
  {
   "cell_type": "markdown",
   "metadata": {},
   "source": [
    "## Ejercicio-1"
   ]
  },
  {
   "cell_type": "code",
   "execution_count": 11,
   "metadata": {},
   "outputs": [
    {
     "name": "stdout",
     "output_type": "stream",
     "text": [
      "¡ALERTA! ¡ASTEROIDE CERCANO A VELOCIDAD 49 km/s MAYOR AL LIMITE!\n"
     ]
    }
   ],
   "source": [
    "#Para este ejercicio, escribirás una lógica condicional que imprima una advertencia si un #asteroide se acerca a la Tierra demasiado rápido. La velocidad del asteroide varía dependiendo #de lo cerca que esté del sol, y cualquier velocidad superior a 25 kilómetros por segundo (km/s) #merece una advertencia.\n",
    "#Un asteroide se acerca, y viaja a una velocidad de 49 km/s.\n",
    "\n",
    "velocidadAsteroide = 49\n",
    "velocidadLimite = 25\n",
    "if velocidadAsteroide > velocidadLimite:\n",
    "    print('¡ALERTA! ¡ASTEROIDE CERCANO A VELOCIDAD ' + str(velocidadAsteroide) + ' km/s ' 'MAYOR AL LIMITE!')\n",
    "else:\n",
    "        print('¡ASTEROIDE NO SOBREPASA LA VELOCIDAD !')\n"
   ]
  },
  {
   "cell_type": "markdown",
   "metadata": {},
   "source": [
    "## Ejercicio 2"
   ]
  },
  {
   "cell_type": "code",
   "execution_count": 25,
   "metadata": {},
   "outputs": [
    {
     "name": "stdout",
     "output_type": "stream",
     "text": [
      "bonita noche, hasta mañana\n"
     ]
    }
   ],
   "source": [
    "# Si un asteroide entra en la atmósfera de la Tierra a una velocidad mayor o igual a 20 km/s, a veces produce un rayo de luz que se puede ver desde la Tierra. Escribe la lógica condicional que usa declaraciones `if`, `else`, y `elif` para alertar a las personas de todo el mundo que deben buscar un asteroide en el cielo. ¡Hay uno que se dirige a la tierra ahora a una velocidad de 19 km/s!\n",
    "velocidadAsteroide = int(input('velocidad asteroide'))\n",
    "if velocidadAsteroide > 20:\n",
    "    print('¡Atención!. Haz de luz detectada')\n",
    "elif velocidadAsteroide == 20:\n",
    "    print('¡Atención!. Haz de luz detectada')\n",
    "else:\n",
    "    print('bonita noche, hasta mañana')\n"
   ]
  },
  {
   "cell_type": "markdown",
   "metadata": {},
   "source": [
    "## Ejercicio 3"
   ]
  },
  {
   "cell_type": "code",
   "execution_count": 31,
   "metadata": {},
   "outputs": [
    {
     "name": "stdout",
     "output_type": "stream",
     "text": [
      "¡Atención!. Haz de luz detectada\n"
     ]
    }
   ],
   "source": [
    "# En este ejercicio, aprenderás información más matizada sobre cuándo los asteroides representan un peligro para la Tierra, y utilizarás esa información para mejorar nuestro sistema de advertencia. Aquí está la nueva información que necesitas saber:\n",
    "\n",
    "# Los asteroides de menos de 25 metros en su dimensión más grande probablemente se quemarán a medida que entren en la atmósfera de la Tierra.\n",
    "#  Si una pieza de un asteroide que es más grande que 25 metros pero más pequeña que 1000 metros golpeara la Tierra, causaría mucho daño.\n",
    "\n",
    "# También discutimos en el ejercicio anterior que:\n",
    "\n",
    "#  La velocidad del asteroide varía en función de lo cerca que esté del sol, y cualquier velocidad superior a 25 kilómetros por segundo (km/s) merece una advertencia.\n",
    "#  Si un asteroide entra en la atmósfera de la Tierra a una velocidad mayor o igual a 20 km/s, a veces produce un rayo de luz que se puede ver desde la Tierra.\n",
    "\n",
    "# Usando toda esta información, escribe un programa que emita la advertencia o información correcta a la gente de la Tierra, según la velocidad y el tamaño de un asteroide. Utiliza instrucciones \n",
    "\n",
    "velocidadAsteroide = int(input('velocidad de asteroide'))\n",
    "tamañoAsteroide = int(input('tamaño del asteroide'))\n",
    "if velocidadAsteroide > 25 and (tamañoAsteroide > 25 or tamañoAsteroide < 1000):\n",
    "    print('¡ALERTA! Un asteroide muy grande de '+str(tamañoAsteroide) +' metros, y a gran velocidad ' +str(velocidadAsteroide)+ 'km/s viene hacia la Tierra.')\n",
    "elif velocidadAsteroide >= 20:\n",
    "    print('¡Atención!. Haz de luz detectada')\n",
    "elif tamañoAsteroide < 25:\n",
    "    print('bonita noche, hasta mañana')\n",
    "else:\n",
    "    print('bonita noche, hasta mañana')"
   ]
  }
 ],
 "metadata": {
  "interpreter": {
   "hash": "e2af106caa1d9d239e93dd47ced50aadece9337746f63b9f5fdc9fe75ef27128"
  },
  "kernelspec": {
   "display_name": "Python 3.10.2 64-bit",
   "language": "python",
   "name": "python3"
  },
  "language_info": {
   "codemirror_mode": {
    "name": "ipython",
    "version": 3
   },
   "file_extension": ".py",
   "mimetype": "text/x-python",
   "name": "python",
   "nbconvert_exporter": "python",
   "pygments_lexer": "ipython3",
   "version": "3.10.2"
  },
  "orig_nbformat": 4
 },
 "nbformat": 4,
 "nbformat_minor": 2
}
